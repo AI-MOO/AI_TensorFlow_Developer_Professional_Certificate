{
  "cells": [
    {
      "cell_type": "markdown",
      "metadata": {
        "id": "ft6D6kudj_OE"
      },
      "source": [
        "<a href=\"https://colab.research.google.com/github/https-deeplearning-ai/tensorflow-1-public/blob/main/C4/W4/ungraded_labs/C4_W4_Lab_1_LSTM.ipynb\" target=\"_parent\"><img src=\"https://colab.research.google.com/assets/colab-badge.svg\" alt=\"Open In Colab\"/></a>"
      ]
    },
    {
      "cell_type": "markdown",
      "metadata": {
        "id": "GYEYC1orNFdN"
      },
      "source": [
        "# Ungraded Lab: Using Convolutions with LSTMs\n",
        "\n",
        "Welcome to the final week of this course! In this lab, you will build upon the RNN models you built last week and append a convolution layer to it. As you saw in previous courses, convolution filters can also capture features from sequences so it's good to try them out when exploring model architectures. Let's begin!"
      ]
    },
    {
      "cell_type": "markdown",
      "metadata": {
        "id": "vHuz2uNTNMnU"
      },
      "source": [
        "## Imports"
      ]
    },
    {
      "cell_type": "code",
      "execution_count": 1,
      "metadata": {
        "id": "BOjujz601HcS"
      },
      "outputs": [],
      "source": [
        "import tensorflow as tf\n",
        "import numpy as np\n",
        "import matplotlib.pyplot as plt"
      ]
    },
    {
      "cell_type": "markdown",
      "metadata": {
        "id": "dsCvMZCCNON1"
      },
      "source": [
        "## Utilities\n",
        "\n",
        "You will be plotting the MAE and loss later so the `plot_series()` is extended to have more labelling functionality. The utilities for generating the synthetic data is the same as the previous labs."
      ]
    },
    {
      "cell_type": "code",
      "execution_count": 2,
      "metadata": {
        "id": "Zswl7jRtGzkk"
      },
      "outputs": [],
      "source": [
        "def plot_series(x, y, format=\"-\", start=0, end=None,\n",
        "                title=None, xlabel=None, ylabel=None, legend=None ):\n",
        "    \"\"\"\n",
        "    Visualizes time series data\n",
        "\n",
        "    Args:\n",
        "      x (array of int) - contains values for the x-axis\n",
        "      y (array of int or tuple of arrays) - contains the values for the y-axis\n",
        "      format (string) - line style when plotting the graph\n",
        "      start (int) - first time step to plot\n",
        "      end (int) - last time step to plot\n",
        "      title (string) - title of the plot\n",
        "      xlabel (string) - label for the x-axis\n",
        "      ylabel (string) - label for the y-axis\n",
        "      legend (list of strings) - legend for the plot\n",
        "    \"\"\"\n",
        "\n",
        "    # Setup dimensions of the graph figure\n",
        "    plt.figure(figsize=(10, 6))\n",
        "\n",
        "    # Check if there are more than two series to plot\n",
        "    if type(y) is tuple:\n",
        "\n",
        "      # Loop over the y elements\n",
        "      for y_curr in y:\n",
        "\n",
        "        # Plot the x and current y values\n",
        "        plt.plot(x[start:end], y_curr[start:end], format)\n",
        "\n",
        "    else:\n",
        "      # Plot the x and y values\n",
        "      plt.plot(x[start:end], y[start:end], format)\n",
        "\n",
        "    # Label the x-axis\n",
        "    plt.xlabel(xlabel)\n",
        "\n",
        "    # Label the y-axis\n",
        "    plt.ylabel(ylabel)\n",
        "\n",
        "    # Set the legend\n",
        "    if legend:\n",
        "      plt.legend(legend)\n",
        "\n",
        "    # Set the title\n",
        "    plt.title(title)\n",
        "\n",
        "    # Overlay a grid on the graph\n",
        "    plt.grid(True)\n",
        "\n",
        "    # Draw the graph on screen\n",
        "    plt.show()\n",
        "\n",
        "def trend(time, slope=0):\n",
        "    \"\"\"\n",
        "    Generates synthetic data that follows a straight line given a slope value.\n",
        "\n",
        "    Args:\n",
        "      time (array of int) - contains the time steps\n",
        "      slope (float) - determines the direction and steepness of the line\n",
        "\n",
        "    Returns:\n",
        "      series (array of float) - measurements that follow a straight line\n",
        "    \"\"\"\n",
        "\n",
        "    # Compute the linear series given the slope\n",
        "    series = slope * time\n",
        "\n",
        "    return series\n",
        "\n",
        "def seasonal_pattern(season_time):\n",
        "    \"\"\"\n",
        "    Just an arbitrary pattern, you can change it if you wish\n",
        "\n",
        "    Args:\n",
        "      season_time (array of float) - contains the measurements per time step\n",
        "\n",
        "    Returns:\n",
        "      data_pattern (array of float) -  contains revised measurement values according\n",
        "                                  to the defined pattern\n",
        "    \"\"\"\n",
        "\n",
        "    # Generate the values using an arbitrary pattern\n",
        "    data_pattern = np.where(season_time < 0.4,\n",
        "                    np.cos(season_time * 2 * np.pi),\n",
        "                    1 / np.exp(3 * season_time))\n",
        "\n",
        "    return data_pattern\n",
        "\n",
        "def seasonality(time, period, amplitude=1, phase=0):\n",
        "    \"\"\"\n",
        "    Repeats the same pattern at each period\n",
        "\n",
        "    Args:\n",
        "      time (array of int) - contains the time steps\n",
        "      period (int) - number of time steps before the pattern repeats\n",
        "      amplitude (int) - peak measured value in a period\n",
        "      phase (int) - number of time steps to shift the measured values\n",
        "\n",
        "    Returns:\n",
        "      data_pattern (array of float) - seasonal data scaled by the defined amplitude\n",
        "    \"\"\"\n",
        "\n",
        "    # Define the measured values per period\n",
        "    season_time = ((time + phase) % period) / period\n",
        "\n",
        "    # Generates the seasonal data scaled by the defined amplitude\n",
        "    data_pattern = amplitude * seasonal_pattern(season_time)\n",
        "\n",
        "    return data_pattern\n",
        "\n",
        "def noise(time, noise_level=1, seed=None):\n",
        "    \"\"\"Generates a normally distributed noisy signal\n",
        "\n",
        "    Args:\n",
        "      time (array of int) - contains the time steps\n",
        "      noise_level (float) - scaling factor for the generated signal\n",
        "      seed (int) - number generator seed for repeatability\n",
        "\n",
        "    Returns:\n",
        "      noise (array of float) - the noisy signal\n",
        "    \"\"\"\n",
        "\n",
        "    # Initialize the random number generator\n",
        "    rnd = np.random.RandomState(seed)\n",
        "\n",
        "    # Generate a random number for each time step and scale by the noise level\n",
        "    noise = rnd.randn(len(time)) * noise_level\n",
        "\n",
        "    return noise"
      ]
    },
    {
      "cell_type": "markdown",
      "metadata": {
        "id": "5eI0WvrTNT6d"
      },
      "source": [
        "## Generate the Synthetic Data"
      ]
    },
    {
      "cell_type": "code",
      "execution_count": 3,
      "metadata": {
        "id": "dtMZfbuxNtLA"
      },
      "outputs": [
        {
          "data": {
            "image/png": "[encoded data removed]",
            "text/plain": [
              "<Figure size 1000x600 with 1 Axes>"
            ]
          },
          "metadata": {},
          "output_type": "display_data"
        }
      ],
      "source": [
        "# Parameters\n",
        "time = np.arange(4 * 365 + 1, dtype=\"float32\")\n",
        "baseline = 10\n",
        "amplitude = 40\n",
        "slope = 0.05\n",
        "noise_level = 5\n",
        "\n",
        "# Create the series\n",
        "series = baseline + trend(time, slope) + seasonality(time, period=365, amplitude=amplitude)\n",
        "\n",
        "# Update with noise\n",
        "series += noise(time, noise_level, seed=42)\n",
        "\n",
        "# Plot the results\n",
        "plot_series(time, series, xlabel='Time', ylabel='Value')"
      ]
    },
    {
      "cell_type": "markdown",
      "metadata": {
        "id": "JXUYdSVmNYvN"
      },
      "source": [
        "## Split the Dataset"
      ]
    },
    {
      "cell_type": "code",
      "execution_count": 4,
      "metadata": {
        "id": "jvvA0or1OA5-"
      },
      "outputs": [],
      "source": [
        "# Define the split time\n",
        "split_time = 1000\n",
        "\n",
        "# Get the train set\n",
        "time_train = time[:split_time]\n",
        "x_train = series[:split_time]\n",
        "\n",
        "# Get the validation set\n",
        "time_valid = time[split_time:]\n",
        "x_valid = series[split_time:]"
      ]
    },
    {
      "cell_type": "markdown",
      "metadata": {
        "id": "UsuTYUWuNam3"
      },
      "source": [
        "## Prepare Features and Labels\n",
        "\n",
        "As mentioned in the lectures, you can experiment with different batch sizing here and see how it affects your results."
      ]
    },
    {
      "cell_type": "code",
      "execution_count": 5,
      "metadata": {
        "id": "A-sg6XuP8C00"
      },
      "outputs": [],
      "source": [
        "# Parameters\n",
        "window_size = 20\n",
        "batch_size = 16\n",
        "shuffle_buffer_size = 1000"
      ]
    },
    {
      "cell_type": "code",
      "execution_count": 6,
      "metadata": {
        "id": "4sTTIOCbyShY"
      },
      "outputs": [],
      "source": [
        "def windowed_dataset(series, window_size, batch_size, shuffle_buffer):\n",
        "    \"\"\"Generates dataset windows\n",
        "\n",
        "    Args:\n",
        "      series (array of float) - contains the values of the time series\n",
        "      window_size (int) - the number of time steps to average\n",
        "      batch_size (int) - the batch size\n",
        "      shuffle_buffer(int) - buffer size to use for the shuffle method\n",
        "\n",
        "    Returns:\n",
        "      dataset (TF Dataset) - TF Dataset containing time windows\n",
        "    \"\"\"\n",
        "\n",
        "    # Generate a TF Dataset from the series values\n",
        "    dataset = tf.data.Dataset.from_tensor_slices(series)\n",
        "\n",
        "    # Window the data but only take those with the specified size\n",
        "    dataset = dataset.window(window_size + 1, shift=1, drop_remainder=True)\n",
        "\n",
        "    # Flatten the windows by putting its elements in a single batch\n",
        "    dataset = dataset.flat_map(lambda window: window.batch(window_size + 1))\n",
        "\n",
        "    # Create tuples with features and labels\n",
        "    dataset = dataset.map(lambda window: (window[:-1], window[-1]))\n",
        "\n",
        "    # Shuffle the windows\n",
        "    dataset = dataset.shuffle(shuffle_buffer)\n",
        "\n",
        "    # Create batches of windows\n",
        "    dataset = dataset.batch(batch_size).prefetch(1)\n",
        "\n",
        "    return dataset"
      ]
    },
    {
      "cell_type": "code",
      "execution_count": 7,
      "metadata": {
        "id": "UrG17CqN8ql0"
      },
      "outputs": [],
      "source": [
        "# Generate the dataset windows\n",
        "train_set = windowed_dataset(x_train, window_size, batch_size, shuffle_buffer_size)"
      ]
    },
    {
      "cell_type": "markdown",
      "metadata": {
        "id": "EQHk3KPuPbQU"
      },
      "source": [
        "## Build the Model\n",
        "\n",
        "Here is the model architecture you will be using. It is very similar to the last RNN you built but with the [Conv1D](https://www.tensorflow.org/api_docs/python/tf/keras/layers/Conv1D) layer at the input. One important [argument](https://www.tensorflow.org/api_docs/python/tf/keras/layers/Conv1D#args) here is the `padding`. For time series data, it is good practice to not let computations for a particular time step to be affected by values into the future. Here is one way of looking at it:\n",
        "\n",
        "* Let's say you have a small time series window with these values: `[1, 2, 3, 4, 5]`. This means the value `1` is at `t=0`, `2` is at `t=1`, etc.\n",
        "* If you have a 1D kernel of size `3`, then the first convolution will be for the values at `[1, 2, 3]` which are values for `t=0` to `t=2`.\n",
        "* When you pass this to the first timestep of the `LSTM` after the convolution, it means that the value at `t=0` of the LSTM depends on `t=1` and `t=2` which are values into the future.\n",
        "* For time series data, you want computations to only rely on current and previous time steps.\n",
        "* One way to do that is to pad the array depending on the kernel size and stride. For a kernel size of 3 and stride of 1, the window can be padded as such: `[0, 0, 1, 2, 3, 4, 5]`. `1` is still at `t=0` and two zeroes are prepended to simulate values in the past.\n",
        "* This way, the first stride will be at `[0, 0, 1]` and this does not contain any future values when it is passed on to subsequent layers.\n",
        "\n",
        "The `Conv1D` layer does this kind of padding by setting `padding=causal` and you'll see that below."
      ]
    },
    {
      "cell_type": "code",
      "execution_count": 8,
      "metadata": {
        "id": "Yqc2GTsps0qf"
      },
      "outputs": [
        {
          "name": "stdout",
          "output_type": "stream",
          "text": [
            "Model: \"sequential\"\n",
            "_________________________________________________________________\n",
            " Layer (type)                Output Shape              Param #   \n",
            "=================================================================\n",
            " conv1d (Conv1D)             (None, 20, 64)            256       \n",
            "                                                                 \n",
            " lstm (LSTM)                 (None, 20, 64)            33024     \n",
            "                                                                 \n",
            " lstm_1 (LSTM)               (None, 64)                33024     \n",
            "                                                                 \n",
            " dense (Dense)               (None, 1)                 65        \n",
            "                                                                 \n",
            " lambda (Lambda)             (None, 1)                 0         \n",
            "                                                                 \n",
            "=================================================================\n",
            "Total params: 66,369\n",
            "Trainable params: 66,369\n",
            "Non-trainable params: 0\n",
            "_________________________________________________________________\n"
          ]
        }
      ],
      "source": [
        "# Reset states generated by Keras\n",
        "tf.keras.backend.clear_session()\n",
        "\n",
        "# Build the model\n",
        "model = tf.keras.models.Sequential([\n",
        "  tf.keras.layers.Conv1D(filters=64, kernel_size=3,\n",
        "                      strides=1, padding=\"causal\",\n",
        "                      activation=\"relu\",\n",
        "                      input_shape=[window_size, 1]),\n",
        "  tf.keras.layers.LSTM(64, return_sequences=True),\n",
        "  tf.keras.layers.LSTM(64),\n",
        "  tf.keras.layers.Dense(1),\n",
        "  tf.keras.layers.Lambda(lambda x: x * 400)\n",
        "])\n",
        "\n",
        "# Print the model summary\n",
        "model.summary()"
      ]
    },
    {
      "cell_type": "markdown",
      "metadata": {
        "id": "cQdIfpeBPmTm"
      },
      "source": [
        "## Tune the Learning Rate\n",
        "\n",
        "In the previous labs, you are using different models for tuning and training. That is a valid approach but you can also use the same model for both. Before tuning, you can use the [`get_weights()`](https://www.tensorflow.org/api_docs/python/tf/keras/layers/Layer#get_weights) method so you can reset it later."
      ]
    },
    {
      "cell_type": "code",
      "execution_count": 9,
      "metadata": {
        "id": "-Fo71QNs7UJY"
      },
      "outputs": [],
      "source": [
        "# Get initial weights\n",
        "init_weights = model.get_weights()"
      ]
    },
    {
      "cell_type": "markdown",
      "metadata": {
        "id": "bcVbJDQNAe39"
      },
      "source": [
        "After that, you can tune the model as usual."
      ]
    },
    {
      "cell_type": "code",
      "execution_count": 10,
      "metadata": {
        "id": "Dcbk9QMEKsLi"
      },
      "outputs": [
        {
          "name": "stdout",
          "output_type": "stream",
          "text": [
            "Epoch 1/100\n",
            "62/62 [==============================] - 8s 19ms/step - loss: 77.7166 - lr: 1.0000e-08\n",
            "Epoch 2/100\n",
            "62/62 [==============================] - 0s 7ms/step - loss: 36.8896 - lr: 1.1220e-08\n",
            "Epoch 3/100\n",
            "62/62 [==============================] - 0s 6ms/step - loss: 27.0234 - lr: 1.2589e-08\n",
            "Epoch 4/100\n",
            "62/62 [==============================] - 0s 6ms/step - loss: 24.4006 - lr: 1.4125e-08\n",
            "Epoch 5/100\n",
            "62/62 [==============================] - 0s 7ms/step - loss: 22.5298 - lr: 1.5849e-08\n",
            "Epoch 6/100\n",
            "62/62 [==============================] - 0s 7ms/step - loss: 20.6387 - lr: 1.7783e-08\n",
            "Epoch 7/100\n",
            "62/62 [==============================] - 0s 6ms/step - loss: 18.7030 - lr: 1.9953e-08\n",
            "Epoch 8/100\n",
            "62/62 [==============================] - 0s 7ms/step - loss: 16.7933 - lr: 2.2387e-08\n",
            "Epoch 9/100\n",
            "62/62 [==============================] - 0s 6ms/step - loss: 14.9231 - lr: 2.5119e-08\n",
            "Epoch 10/100\n",
            "62/62 [==============================] - 0s 6ms/step - loss: 13.3902 - lr: 2.8184e-08\n",
            "Epoch 11/100\n",
            "62/62 [==============================] - 0s 6ms/step - loss: 12.2739 - lr: 3.1623e-08\n",
            "Epoch 12/100\n",
            "62/62 [==============================] - 0s 7ms/step - loss: 11.5645 - lr: 3.5481e-08\n",
            "Epoch 13/100\n",
            "62/62 [==============================] - 0s 6ms/step - loss: 11.2447 - lr: 3.9811e-08\n",
            "Epoch 14/100\n",
            "62/62 [==============================] - 0s 7ms/step - loss: 10.8054 - lr: 4.4668e-08\n",
            "Epoch 15/100\n",
            "62/62 [==============================] - 0s 7ms/step - loss: 10.3795 - lr: 5.0119e-08\n",
            "Epoch 16/100\n",
            "62/62 [==============================] - 0s 6ms/step - loss: 9.9564 - lr: 5.6234e-08\n",
            "Epoch 17/100\n",
            "62/62 [==============================] - 0s 7ms/step - loss: 9.6281 - lr: 6.3096e-08\n",
            "Epoch 18/100\n",
            "62/62 [==============================] - 0s 7ms/step - loss: 9.2346 - lr: 7.0795e-08\n",
            "Epoch 19/100\n",
            "62/62 [==============================] - 1s 7ms/step - loss: 8.8419 - lr: 7.9433e-08\n",
            "Epoch 20/100\n",
            "62/62 [==============================] - 0s 6ms/step - loss: 8.5616 - lr: 8.9125e-08\n",
            "Epoch 21/100\n",
            "62/62 [==============================] - 0s 6ms/step - loss: 8.2067 - lr: 1.0000e-07\n",
            "Epoch 22/100\n",
            "62/62 [==============================] - 0s 6ms/step - loss: 7.8326 - lr: 1.1220e-07\n",
            "Epoch 23/100\n",
            "62/62 [==============================] - 0s 6ms/step - loss: 7.3751 - lr: 1.2589e-07\n",
            "Epoch 24/100\n",
            "62/62 [==============================] - 0s 6ms/step - loss: 7.0869 - lr: 1.4125e-07\n",
            "Epoch 25/100\n",
            "62/62 [==============================] - 1s 8ms/step - loss: 6.5884 - lr: 1.5849e-07\n",
            "Epoch 26/100\n",
            "62/62 [==============================] - 1s 7ms/step - loss: 6.2747 - lr: 1.7783e-07\n",
            "Epoch 27/100\n",
            "62/62 [==============================] - 0s 7ms/step - loss: 5.7439 - lr: 1.9953e-07\n",
            "Epoch 28/100\n",
            "62/62 [==============================] - 1s 7ms/step - loss: 5.4449 - lr: 2.2387e-07\n",
            "Epoch 29/100\n",
            "62/62 [==============================] - 0s 6ms/step - loss: 5.1196 - lr: 2.5119e-07\n",
            "Epoch 30/100\n",
            "62/62 [==============================] - 1s 7ms/step - loss: 5.0127 - lr: 2.8184e-07\n",
            "Epoch 31/100\n",
            "62/62 [==============================] - 1s 7ms/step - loss: 4.9165 - lr: 3.1623e-07\n",
            "Epoch 32/100\n",
            "62/62 [==============================] - 1s 7ms/step - loss: 5.0118 - lr: 3.5481e-07\n",
            "Epoch 33/100\n",
            "62/62 [==============================] - 0s 7ms/step - loss: 5.0247 - lr: 3.9811e-07\n",
            "Epoch 34/100\n",
            "62/62 [==============================] - 1s 7ms/step - loss: 5.2308 - lr: 4.4668e-07\n",
            "Epoch 35/100\n",
            "62/62 [==============================] - 1s 9ms/step - loss: 5.4652 - lr: 5.0119e-07\n",
            "Epoch 36/100\n",
            "62/62 [==============================] - 1s 8ms/step - loss: 5.0443 - lr: 5.6234e-07\n",
            "Epoch 37/100\n",
            "62/62 [==============================] - 0s 7ms/step - loss: 4.9551 - lr: 6.3096e-07\n",
            "Epoch 38/100\n",
            "62/62 [==============================] - 1s 7ms/step - loss: 5.5254 - lr: 7.0795e-07\n",
            "Epoch 39/100\n",
            "62/62 [==============================] - 1s 7ms/step - loss: 4.7858 - lr: 7.9433e-07\n",
            "Epoch 40/100\n",
            "62/62 [==============================] - 1s 7ms/step - loss: 4.9930 - lr: 8.9125e-07\n",
            "Epoch 41/100\n",
            "62/62 [==============================] - 1s 7ms/step - loss: 5.9300 - lr: 1.0000e-06\n",
            "Epoch 42/100\n",
            "62/62 [==============================] - 1s 7ms/step - loss: 5.6643 - lr: 1.1220e-06\n",
            "Epoch 43/100\n",
            "62/62 [==============================] - 1s 9ms/step - loss: 5.7317 - lr: 1.2589e-06\n",
            "Epoch 44/100\n",
            "62/62 [==============================] - 1s 8ms/step - loss: 5.3639 - lr: 1.4125e-06\n",
            "Epoch 45/100\n",
            "62/62 [==============================] - 1s 9ms/step - loss: 5.7507 - lr: 1.5849e-06\n",
            "Epoch 46/100\n",
            "62/62 [==============================] - 1s 8ms/step - loss: 6.8285 - lr: 1.7783e-06\n",
            "Epoch 47/100\n",
            "62/62 [==============================] - 1s 7ms/step - loss: 6.0174 - lr: 1.9953e-06\n",
            "Epoch 48/100\n",
            "62/62 [==============================] - 1s 8ms/step - loss: 6.3665 - lr: 2.2387e-06\n",
            "Epoch 49/100\n",
            "62/62 [==============================] - 1s 7ms/step - loss: 7.4873 - lr: 2.5119e-06\n",
            "Epoch 50/100\n",
            "62/62 [==============================] - 1s 8ms/step - loss: 5.5769 - lr: 2.8184e-06\n",
            "Epoch 51/100\n",
            "62/62 [==============================] - 1s 9ms/step - loss: 5.5145 - lr: 3.1623e-06\n",
            "Epoch 52/100\n",
            "62/62 [==============================] - 1s 8ms/step - loss: 5.7832 - lr: 3.5481e-06\n",
            "Epoch 53/100\n",
            "62/62 [==============================] - 1s 8ms/step - loss: 7.5307 - lr: 3.9811e-06\n",
            "Epoch 54/100\n",
            "62/62 [==============================] - 1s 7ms/step - loss: 6.3633 - lr: 4.4668e-06\n",
            "Epoch 55/100\n",
            "62/62 [==============================] - 1s 9ms/step - loss: 8.3222 - lr: 5.0119e-06\n",
            "Epoch 56/100\n",
            "62/62 [==============================] - 1s 8ms/step - loss: 7.2929 - lr: 5.6234e-06\n",
            "Epoch 57/100\n",
            "62/62 [==============================] - 1s 8ms/step - loss: 7.3676 - lr: 6.3096e-06\n",
            "Epoch 58/100\n",
            "62/62 [==============================] - 1s 9ms/step - loss: 7.2317 - lr: 7.0795e-06\n",
            "Epoch 59/100\n",
            "62/62 [==============================] - 1s 7ms/step - loss: 8.0371 - lr: 7.9433e-06\n",
            "Epoch 60/100\n",
            "62/62 [==============================] - 1s 7ms/step - loss: 9.0938 - lr: 8.9125e-06\n",
            "Epoch 61/100\n",
            "62/62 [==============================] - 0s 7ms/step - loss: 9.3427 - lr: 1.0000e-05\n",
            "Epoch 62/100\n",
            "62/62 [==============================] - 0s 7ms/step - loss: 12.2651 - lr: 1.1220e-05\n",
            "Epoch 63/100\n",
            "62/62 [==============================] - 1s 7ms/step - loss: 8.0432 - lr: 1.2589e-05\n",
            "Epoch 64/100\n",
            "62/62 [==============================] - 0s 7ms/step - loss: 12.2479 - lr: 1.4125e-05\n",
            "Epoch 65/100\n",
            "62/62 [==============================] - 1s 7ms/step - loss: 12.1469 - lr: 1.5849e-05\n",
            "Epoch 66/100\n",
            "62/62 [==============================] - 1s 7ms/step - loss: 8.1413 - lr: 1.7783e-05\n",
            "Epoch 67/100\n",
            "62/62 [==============================] - 0s 7ms/step - loss: 8.2542 - lr: 1.9953e-05\n",
            "Epoch 68/100\n",
            "62/62 [==============================] - 0s 7ms/step - loss: 10.2539 - lr: 2.2387e-05\n",
            "Epoch 69/100\n",
            "62/62 [==============================] - 1s 7ms/step - loss: 12.5198 - lr: 2.5119e-05\n",
            "Epoch 70/100\n",
            "62/62 [==============================] - 1s 7ms/step - loss: 14.5666 - lr: 2.8184e-05\n",
            "Epoch 71/100\n",
            "62/62 [==============================] - 1s 8ms/step - loss: 7.6537 - lr: 3.1623e-05\n",
            "Epoch 72/100\n",
            "62/62 [==============================] - 1s 8ms/step - loss: 6.8211 - lr: 3.5481e-05\n",
            "Epoch 73/100\n",
            "62/62 [==============================] - 1s 7ms/step - loss: 8.0248 - lr: 3.9811e-05\n",
            "Epoch 74/100\n",
            "62/62 [==============================] - 1s 8ms/step - loss: 12.4635 - lr: 4.4668e-05\n",
            "Epoch 75/100\n",
            "62/62 [==============================] - 1s 7ms/step - loss: 6.8861 - lr: 5.0119e-05\n",
            "Epoch 76/100\n",
            "62/62 [==============================] - 1s 7ms/step - loss: 9.1757 - lr: 5.6234e-05\n",
            "Epoch 77/100\n",
            "62/62 [==============================] - 1s 7ms/step - loss: 7.3815 - lr: 6.3096e-05\n",
            "Epoch 78/100\n",
            "62/62 [==============================] - 1s 7ms/step - loss: 6.5027 - lr: 7.0795e-05\n",
            "Epoch 79/100\n",
            "62/62 [==============================] - 1s 8ms/step - loss: 6.5886 - lr: 7.9433e-05\n",
            "Epoch 80/100\n",
            "62/62 [==============================] - 0s 7ms/step - loss: 11.9161 - lr: 8.9125e-05\n",
            "Epoch 81/100\n",
            "62/62 [==============================] - 1s 7ms/step - loss: 8.3168 - lr: 1.0000e-04\n",
            "Epoch 82/100\n",
            "62/62 [==============================] - 0s 7ms/step - loss: 10.9578 - lr: 1.1220e-04\n",
            "Epoch 83/100\n",
            "62/62 [==============================] - 1s 7ms/step - loss: 14.7064 - lr: 1.2589e-04\n",
            "Epoch 84/100\n",
            "62/62 [==============================] - 1s 8ms/step - loss: 10.3936 - lr: 1.4125e-04\n",
            "Epoch 85/100\n",
            "62/62 [==============================] - 1s 7ms/step - loss: 8.5559 - lr: 1.5849e-04\n",
            "Epoch 86/100\n",
            "62/62 [==============================] - 1s 7ms/step - loss: 16.4933 - lr: 1.7783e-04\n",
            "Epoch 87/100\n",
            "62/62 [==============================] - 0s 7ms/step - loss: 25.0396 - lr: 1.9953e-04\n",
            "Epoch 88/100\n",
            "62/62 [==============================] - 1s 7ms/step - loss: 24.2450 - lr: 2.2387e-04\n",
            "Epoch 89/100\n",
            "62/62 [==============================] - 1s 7ms/step - loss: 25.5220 - lr: 2.5119e-04\n",
            "Epoch 90/100\n",
            "62/62 [==============================] - 1s 8ms/step - loss: 32.0631 - lr: 2.8184e-04\n",
            "Epoch 91/100\n",
            "62/62 [==============================] - 1s 7ms/step - loss: 20.9132 - lr: 3.1623e-04\n",
            "Epoch 92/100\n",
            "62/62 [==============================] - 1s 7ms/step - loss: 46.2557 - lr: 3.5481e-04\n",
            "Epoch 93/100\n",
            "62/62 [==============================] - 1s 7ms/step - loss: 40.8840 - lr: 3.9811e-04\n",
            "Epoch 94/100\n",
            "62/62 [==============================] - 1s 7ms/step - loss: 36.0167 - lr: 4.4668e-04\n",
            "Epoch 95/100\n",
            "62/62 [==============================] - 1s 8ms/step - loss: 37.3035 - lr: 5.0119e-04\n",
            "Epoch 96/100\n",
            "62/62 [==============================] - 1s 7ms/step - loss: 89.8843 - lr: 5.6234e-04\n",
            "Epoch 97/100\n",
            "62/62 [==============================] - 1s 7ms/step - loss: 55.4324 - lr: 6.3096e-04\n",
            "Epoch 98/100\n",
            "62/62 [==============================] - 1s 8ms/step - loss: 125.3739 - lr: 7.0795e-04\n",
            "Epoch 99/100\n",
            "62/62 [==============================] - 1s 7ms/step - loss: 60.1540 - lr: 7.9433e-04\n",
            "Epoch 100/100\n",
            "62/62 [==============================] - 1s 7ms/step - loss: 132.0115 - lr: 8.9125e-04\n"
          ]
        }
      ],
      "source": [
        "# Set the learning rate scheduler\n",
        "lr_schedule = tf.keras.callbacks.LearningRateScheduler(\n",
        "    lambda epoch: 1e-8 * 10**(epoch / 20))\n",
        "\n",
        "# Initialize the optimizer\n",
        "optimizer = tf.keras.optimizers.SGD(momentum=0.9)\n",
        "\n",
        "# Set the training parameters\n",
        "model.compile(loss=tf.keras.losses.Huber(), optimizer=optimizer)\n",
        "\n",
        "# Train the model\n",
        "history = model.fit(train_set, epochs=100, callbacks=[lr_schedule])"
      ]
    },
    {
      "cell_type": "code",
      "execution_count": 11,
      "metadata": {
        "id": "MjTvASUns0qh"
      },
      "outputs": [
        {
          "data": {
            "text/plain": [
              "(1e-08, 0.001, 0.0, 50.0)"
            ]
          },
          "execution_count": 11,
          "metadata": {},
          "output_type": "execute_result"
        },
        {
          "data": {
            "image/png": "[encoded data removed]",
            "text/plain": [
              "<Figure size 1000x600 with 1 Axes>"
            ]
          },
          "metadata": {},
          "output_type": "display_data"
        }
      ],
      "source": [
        "# Define the learning rate array\n",
        "lrs = 1e-8 * (10 ** (np.arange(100) / 20))\n",
        "\n",
        "# Set the figure size\n",
        "plt.figure(figsize=(10, 6))\n",
        "\n",
        "# Set the grid\n",
        "plt.grid(True)\n",
        "\n",
        "# Plot the loss in log scale\n",
        "plt.semilogx(lrs, history.history[\"loss\"])\n",
        "\n",
        "# Increase the tickmarks size\n",
        "plt.tick_params('both', length=10, width=1, which='both')\n",
        "\n",
        "# Set the plot boundaries\n",
        "plt.axis([1e-8, 1e-3, 0, 50])"
      ]
    },
    {
      "cell_type": "markdown",
      "metadata": {
        "id": "7-mAgyNmdJCa"
      },
      "source": [
        "## Train the Model\n",
        "\n",
        "To reset the weights, you can simply call the [`set_weights()`](https://www.tensorflow.org/api_docs/python/tf/keras/layers/Layer#set_weights) and pass in the saved weights from earlier."
      ]
    },
    {
      "cell_type": "code",
      "execution_count": 12,
      "metadata": {
        "id": "MRyv3N36XdNo"
      },
      "outputs": [],
      "source": [
        "# Reset states generated by Keras\n",
        "tf.keras.backend.clear_session()\n",
        "\n",
        "# Reset the weights\n",
        "model.set_weights(init_weights)"
      ]
    },
    {
      "cell_type": "markdown",
      "metadata": {
        "id": "MOpeP196AvAU"
      },
      "source": [
        "Then you can set the training parameters and start training."
      ]
    },
    {
      "cell_type": "code",
      "execution_count": 13,
      "metadata": {
        "id": "2TuiT7GWRuA5"
      },
      "outputs": [],
      "source": [
        "# Set the learning rate\n",
        "learning_rate = 1e-7\n",
        "\n",
        "# Set the optimizer\n",
        "optimizer = tf.keras.optimizers.SGD(learning_rate=learning_rate, momentum=0.9)\n",
        "\n",
        "# Set the training parameters\n",
        "model.compile(loss=tf.keras.losses.Huber(),\n",
        "              optimizer=optimizer,\n",
        "              metrics=[\"mae\"])"
      ]
    },
    {
      "cell_type": "code",
      "execution_count": 14,
      "metadata": {
        "id": "wHt0qDRyPe-N"
      },
      "outputs": [
        {
          "name": "stdout",
          "output_type": "stream",
          "text": [
            "Epoch 1/500\n",
            "62/62 [==============================] - 3s 9ms/step - loss: 37.1721 - mae: 37.6667\n",
            "Epoch 2/500\n",
            "62/62 [==============================] - 0s 7ms/step - loss: 15.5158 - mae: 16.0078\n",
            "Epoch 3/500\n",
            "62/62 [==============================] - 0s 7ms/step - loss: 11.4869 - mae: 11.9710\n",
            "Epoch 4/500\n",
            "62/62 [==============================] - 0s 7ms/step - loss: 10.5193 - mae: 11.0006\n",
            "Epoch 5/500\n",
            "62/62 [==============================] - 0s 7ms/step - loss: 9.7983 - mae: 10.2807\n",
            "Epoch 6/500\n",
            "62/62 [==============================] - 1s 7ms/step - loss: 9.2184 - mae: 9.6993\n",
            "Epoch 7/500\n",
            "62/62 [==============================] - 0s 7ms/step - loss: 8.7794 - mae: 9.2614\n",
            "Epoch 8/500\n",
            "62/62 [==============================] - 1s 7ms/step - loss: 8.3665 - mae: 8.8458\n",
            "Epoch 9/500\n",
            "62/62 [==============================] - 1s 8ms/step - loss: 8.0142 - mae: 8.4968\n",
            "Epoch 10/500\n",
            "62/62 [==============================] - 1s 7ms/step - loss: 7.6033 - mae: 8.0859\n",
            "Epoch 11/500\n",
            "62/62 [==============================] - 1s 7ms/step - loss: 7.3326 - mae: 7.8123\n",
            "Epoch 12/500\n",
            "62/62 [==============================] - 1s 7ms/step - loss: 7.0492 - mae: 7.5294\n",
            "Epoch 13/500\n",
            "62/62 [==============================] - 1s 8ms/step - loss: 6.7517 - mae: 7.2304\n",
            "Epoch 14/500\n",
            "62/62 [==============================] - 1s 7ms/step - loss: 6.4751 - mae: 6.9529\n",
            "Epoch 15/500\n",
            "62/62 [==============================] - 1s 7ms/step - loss: 6.2569 - mae: 6.7385\n",
            "Epoch 16/500\n",
            "62/62 [==============================] - 1s 8ms/step - loss: 5.9803 - mae: 6.4587\n",
            "Epoch 17/500\n",
            "62/62 [==============================] - 1s 8ms/step - loss: 5.7492 - mae: 6.2281\n",
            "Epoch 18/500\n",
            "62/62 [==============================] - 1s 9ms/step - loss: 5.5126 - mae: 5.9892\n",
            "Epoch 19/500\n",
            "62/62 [==============================] - 1s 8ms/step - loss: 5.3321 - mae: 5.8133\n",
            "Epoch 20/500\n",
            "62/62 [==============================] - 1s 8ms/step - loss: 5.1762 - mae: 5.6544\n",
            "Epoch 21/500\n",
            "62/62 [==============================] - 1s 8ms/step - loss: 5.0481 - mae: 5.5225\n",
            "Epoch 22/500\n",
            "62/62 [==============================] - 1s 8ms/step - loss: 4.9748 - mae: 5.4524\n",
            "Epoch 23/500\n",
            "62/62 [==============================] - 1s 8ms/step - loss: 4.9104 - mae: 5.3927\n",
            "Epoch 24/500\n",
            "62/62 [==============================] - 1s 8ms/step - loss: 4.9438 - mae: 5.4220\n",
            "Epoch 25/500\n",
            "62/62 [==============================] - 1s 8ms/step - loss: 4.9392 - mae: 5.4175\n",
            "Epoch 26/500\n",
            "62/62 [==============================] - 1s 8ms/step - loss: 4.8725 - mae: 5.3511\n",
            "Epoch 27/500\n",
            "62/62 [==============================] - 1s 8ms/step - loss: 4.8467 - mae: 5.3281\n",
            "Epoch 28/500\n",
            "62/62 [==============================] - 1s 7ms/step - loss: 4.8797 - mae: 5.3633\n",
            "Epoch 29/500\n",
            "62/62 [==============================] - 1s 8ms/step - loss: 4.7928 - mae: 5.2724\n",
            "Epoch 30/500\n",
            "62/62 [==============================] - 1s 8ms/step - loss: 4.8421 - mae: 5.3231\n",
            "Epoch 31/500\n",
            "62/62 [==============================] - 1s 8ms/step - loss: 4.7772 - mae: 5.2542\n",
            "Epoch 32/500\n",
            "62/62 [==============================] - 1s 7ms/step - loss: 4.7509 - mae: 5.2284\n",
            "Epoch 33/500\n",
            "62/62 [==============================] - 1s 7ms/step - loss: 4.7345 - mae: 5.2134\n",
            "Epoch 34/500\n",
            "62/62 [==============================] - 1s 7ms/step - loss: 4.7155 - mae: 5.1970\n",
            "Epoch 35/500\n",
            "62/62 [==============================] - 1s 10ms/step - loss: 4.7351 - mae: 5.2146\n",
            "Epoch 36/500\n",
            "62/62 [==============================] - 1s 10ms/step - loss: 4.7877 - mae: 5.2657\n",
            "Epoch 37/500\n",
            "62/62 [==============================] - 1s 10ms/step - loss: 4.7466 - mae: 5.2279\n",
            "Epoch 38/500\n",
            "62/62 [==============================] - 1s 10ms/step - loss: 4.7595 - mae: 5.2378\n",
            "Epoch 39/500\n",
            "62/62 [==============================] - 1s 10ms/step - loss: 4.6961 - mae: 5.1738\n",
            "Epoch 40/500\n",
            "62/62 [==============================] - 1s 11ms/step - loss: 4.6476 - mae: 5.1289\n",
            "Epoch 41/500\n",
            "62/62 [==============================] - 1s 8ms/step - loss: 4.7258 - mae: 5.2019\n",
            "Epoch 42/500\n",
            "62/62 [==============================] - 0s 7ms/step - loss: 4.7169 - mae: 5.1947\n",
            "Epoch 43/500\n",
            "62/62 [==============================] - 1s 8ms/step - loss: 4.6679 - mae: 5.1482\n",
            "Epoch 44/500\n",
            "62/62 [==============================] - 1s 9ms/step - loss: 4.6318 - mae: 5.1090\n",
            "Epoch 45/500\n",
            "62/62 [==============================] - 1s 9ms/step - loss: 4.6201 - mae: 5.0981\n",
            "Epoch 46/500\n",
            "62/62 [==============================] - 1s 8ms/step - loss: 4.6821 - mae: 5.1588\n",
            "Epoch 47/500\n",
            "62/62 [==============================] - 1s 8ms/step - loss: 4.6445 - mae: 5.1238\n",
            "Epoch 48/500\n",
            "62/62 [==============================] - 1s 8ms/step - loss: 4.5926 - mae: 5.0732\n",
            "Epoch 49/500\n",
            "62/62 [==============================] - 1s 8ms/step - loss: 4.6563 - mae: 5.1317\n",
            "Epoch 50/500\n",
            "62/62 [==============================] - 1s 8ms/step - loss: 4.6078 - mae: 5.0850\n",
            "Epoch 51/500\n",
            "62/62 [==============================] - 1s 8ms/step - loss: 4.6774 - mae: 5.1552\n",
            "Epoch 52/500\n",
            "62/62 [==============================] - 1s 8ms/step - loss: 4.6018 - mae: 5.0809\n",
            "Epoch 53/500\n",
            "62/62 [==============================] - 1s 8ms/step - loss: 4.5553 - mae: 5.0332\n",
            "Epoch 54/500\n",
            "62/62 [==============================] - 1s 8ms/step - loss: 4.5876 - mae: 5.0642\n",
            "Epoch 55/500\n",
            "62/62 [==============================] - 1s 8ms/step - loss: 4.6284 - mae: 5.1009\n",
            "Epoch 56/500\n",
            "62/62 [==============================] - 1s 8ms/step - loss: 4.6504 - mae: 5.1287\n",
            "Epoch 57/500\n",
            "62/62 [==============================] - 1s 8ms/step - loss: 4.5862 - mae: 5.0639\n",
            "Epoch 58/500\n",
            "62/62 [==============================] - 1s 8ms/step - loss: 4.5459 - mae: 5.0241\n",
            "Epoch 59/500\n",
            "62/62 [==============================] - 1s 8ms/step - loss: 4.7539 - mae: 5.2343\n",
            "Epoch 60/500\n",
            "62/62 [==============================] - 1s 8ms/step - loss: 4.5560 - mae: 5.0323\n",
            "Epoch 61/500\n",
            "62/62 [==============================] - 1s 8ms/step - loss: 4.5831 - mae: 5.0574\n",
            "Epoch 62/500\n",
            "62/62 [==============================] - 1s 7ms/step - loss: 4.5777 - mae: 5.0539\n",
            "Epoch 63/500\n",
            "62/62 [==============================] - 1s 7ms/step - loss: 4.5635 - mae: 5.0415\n",
            "Epoch 64/500\n",
            "62/62 [==============================] - 1s 7ms/step - loss: 4.5735 - mae: 5.0506\n",
            "Epoch 65/500\n",
            "62/62 [==============================] - 1s 7ms/step - loss: 4.6191 - mae: 5.0953\n",
            "Epoch 66/500\n",
            "62/62 [==============================] - 1s 8ms/step - loss: 4.4850 - mae: 4.9608\n",
            "Epoch 67/500\n",
            "62/62 [==============================] - 1s 9ms/step - loss: 4.5296 - mae: 5.0101\n",
            "Epoch 68/500\n",
            "62/62 [==============================] - 1s 10ms/step - loss: 4.4954 - mae: 4.9724\n",
            "Epoch 69/500\n",
            "62/62 [==============================] - 1s 10ms/step - loss: 4.5029 - mae: 4.9817\n",
            "Epoch 70/500\n",
            "62/62 [==============================] - 1s 10ms/step - loss: 4.4783 - mae: 4.9563\n",
            "Epoch 71/500\n",
            "62/62 [==============================] - 1s 10ms/step - loss: 4.4487 - mae: 4.9217\n",
            "Epoch 72/500\n",
            "62/62 [==============================] - 1s 8ms/step - loss: 4.5469 - mae: 5.0235\n",
            "Epoch 73/500\n",
            "62/62 [==============================] - 1s 9ms/step - loss: 4.4815 - mae: 4.9567\n",
            "Epoch 74/500\n",
            "62/62 [==============================] - 1s 8ms/step - loss: 4.5018 - mae: 4.9799\n",
            "Epoch 75/500\n",
            "62/62 [==============================] - 1s 8ms/step - loss: 4.5065 - mae: 4.9846\n",
            "Epoch 76/500\n",
            "62/62 [==============================] - 1s 8ms/step - loss: 4.4713 - mae: 4.9492\n",
            "Epoch 77/500\n",
            "62/62 [==============================] - 1s 8ms/step - loss: 4.4406 - mae: 4.9218\n",
            "Epoch 78/500\n",
            "62/62 [==============================] - 1s 8ms/step - loss: 4.4404 - mae: 4.9188\n",
            "Epoch 79/500\n",
            "62/62 [==============================] - 1s 7ms/step - loss: 4.4779 - mae: 4.9532\n",
            "Epoch 80/500\n",
            "62/62 [==============================] - 1s 7ms/step - loss: 4.4652 - mae: 4.9418\n",
            "Epoch 81/500\n",
            "62/62 [==============================] - 1s 7ms/step - loss: 4.4194 - mae: 4.8984\n",
            "Epoch 82/500\n",
            "62/62 [==============================] - 1s 8ms/step - loss: 4.4295 - mae: 4.9062\n",
            "Epoch 83/500\n",
            "62/62 [==============================] - 0s 6ms/step - loss: 4.4090 - mae: 4.8892\n",
            "Epoch 84/500\n",
            "62/62 [==============================] - 0s 7ms/step - loss: 4.4630 - mae: 4.9378\n",
            "Epoch 85/500\n",
            "62/62 [==============================] - 0s 6ms/step - loss: 4.3921 - mae: 4.8698\n",
            "Epoch 86/500\n",
            "62/62 [==============================] - 1s 7ms/step - loss: 4.4236 - mae: 4.8998\n",
            "Epoch 87/500\n",
            "62/62 [==============================] - 1s 8ms/step - loss: 4.4106 - mae: 4.8893\n",
            "Epoch 88/500\n",
            "62/62 [==============================] - 0s 7ms/step - loss: 4.4802 - mae: 4.9580\n",
            "Epoch 89/500\n",
            "62/62 [==============================] - 0s 7ms/step - loss: 4.4118 - mae: 4.8874\n",
            "Epoch 90/500\n",
            "62/62 [==============================] - 1s 10ms/step - loss: 4.4367 - mae: 4.9149\n",
            "Epoch 91/500\n",
            "62/62 [==============================] - 1s 10ms/step - loss: 4.4245 - mae: 4.9024\n",
            "Epoch 92/500\n",
            "62/62 [==============================] - 1s 10ms/step - loss: 4.3908 - mae: 4.8663\n",
            "Epoch 93/500\n",
            "62/62 [==============================] - 1s 9ms/step - loss: 4.4099 - mae: 4.8892\n",
            "Epoch 94/500\n",
            "62/62 [==============================] - 1s 8ms/step - loss: 4.3893 - mae: 4.8650\n",
            "Epoch 95/500\n",
            "62/62 [==============================] - 1s 8ms/step - loss: 4.4049 - mae: 4.8809\n",
            "Epoch 96/500\n",
            "62/62 [==============================] - 1s 9ms/step - loss: 4.3567 - mae: 4.8327\n",
            "Epoch 97/500\n",
            "62/62 [==============================] - 1s 8ms/step - loss: 4.3427 - mae: 4.8168\n",
            "Epoch 98/500\n",
            "62/62 [==============================] - 1s 8ms/step - loss: 4.3517 - mae: 4.8298\n",
            "Epoch 99/500\n",
            "62/62 [==============================] - 1s 8ms/step - loss: 4.3673 - mae: 4.8458\n",
            "Epoch 100/500\n",
            "62/62 [==============================] - 1s 8ms/step - loss: 4.3580 - mae: 4.8352\n",
            "Epoch 101/500\n",
            "62/62 [==============================] - 1s 8ms/step - loss: 4.4548 - mae: 4.9307\n",
            "Epoch 102/500\n",
            "62/62 [==============================] - 1s 8ms/step - loss: 4.4892 - mae: 4.9699\n",
            "Epoch 103/500\n",
            "62/62 [==============================] - 1s 7ms/step - loss: 4.3636 - mae: 4.8383\n",
            "Epoch 104/500\n",
            "62/62 [==============================] - 1s 7ms/step - loss: 4.3996 - mae: 4.8800\n",
            "Epoch 105/500\n",
            "62/62 [==============================] - 1s 10ms/step - loss: 4.5210 - mae: 5.0004\n",
            "Epoch 106/500\n",
            "62/62 [==============================] - 1s 10ms/step - loss: 4.3499 - mae: 4.8258\n",
            "Epoch 107/500\n",
            "62/62 [==============================] - 1s 10ms/step - loss: 4.3151 - mae: 4.7936\n",
            "Epoch 108/500\n",
            "62/62 [==============================] - 1s 10ms/step - loss: 4.4696 - mae: 4.9470\n",
            "Epoch 109/500\n",
            "62/62 [==============================] - 1s 9ms/step - loss: 4.3622 - mae: 4.8370\n",
            "Epoch 110/500\n",
            "62/62 [==============================] - 1s 8ms/step - loss: 4.3618 - mae: 4.8390\n",
            "Epoch 111/500\n",
            "62/62 [==============================] - 1s 8ms/step - loss: 4.3602 - mae: 4.8376\n",
            "Epoch 112/500\n",
            "62/62 [==============================] - 1s 7ms/step - loss: 4.3451 - mae: 4.8226\n",
            "Epoch 113/500\n",
            "62/62 [==============================] - 1s 8ms/step - loss: 4.3235 - mae: 4.7993\n",
            "Epoch 114/500\n",
            "62/62 [==============================] - 1s 8ms/step - loss: 4.3338 - mae: 4.8107\n",
            "Epoch 115/500\n",
            "62/62 [==============================] - 1s 8ms/step - loss: 4.3649 - mae: 4.8419\n",
            "Epoch 116/500\n",
            "62/62 [==============================] - 1s 8ms/step - loss: 4.3613 - mae: 4.8378\n",
            "Epoch 117/500\n",
            "62/62 [==============================] - 1s 8ms/step - loss: 4.3779 - mae: 4.8577\n",
            "Epoch 118/500\n",
            "62/62 [==============================] - 1s 9ms/step - loss: 4.3417 - mae: 4.8226\n",
            "Epoch 119/500\n",
            "62/62 [==============================] - 0s 7ms/step - loss: 4.2999 - mae: 4.7771\n",
            "Epoch 120/500\n",
            "62/62 [==============================] - 1s 8ms/step - loss: 4.2986 - mae: 4.7770\n",
            "Epoch 121/500\n",
            "62/62 [==============================] - 1s 8ms/step - loss: 4.2980 - mae: 4.7712\n",
            "Epoch 122/500\n",
            "62/62 [==============================] - 0s 7ms/step - loss: 4.3384 - mae: 4.8151\n",
            "Epoch 123/500\n",
            "62/62 [==============================] - 1s 8ms/step - loss: 4.2933 - mae: 4.7719\n",
            "Epoch 124/500\n",
            "62/62 [==============================] - 1s 7ms/step - loss: 4.3289 - mae: 4.8028\n",
            "Epoch 125/500\n",
            "62/62 [==============================] - 1s 7ms/step - loss: 4.2724 - mae: 4.7487\n",
            "Epoch 126/500\n",
            "62/62 [==============================] - 1s 8ms/step - loss: 4.3799 - mae: 4.8548\n",
            "Epoch 127/500\n",
            "62/62 [==============================] - 1s 9ms/step - loss: 4.3424 - mae: 4.8197\n",
            "Epoch 128/500\n",
            "62/62 [==============================] - 1s 8ms/step - loss: 4.2705 - mae: 4.7509\n",
            "Epoch 129/500\n",
            "62/62 [==============================] - 1s 8ms/step - loss: 4.3156 - mae: 4.7945\n",
            "Epoch 130/500\n",
            "62/62 [==============================] - 1s 8ms/step - loss: 4.2985 - mae: 4.7758\n",
            "Epoch 131/500\n",
            "62/62 [==============================] - 1s 9ms/step - loss: 4.3697 - mae: 4.8411\n",
            "Epoch 132/500\n",
            "62/62 [==============================] - 1s 7ms/step - loss: 4.3205 - mae: 4.8017\n",
            "Epoch 133/500\n",
            "62/62 [==============================] - 1s 7ms/step - loss: 4.2643 - mae: 4.7402\n",
            "Epoch 134/500\n",
            "62/62 [==============================] - 1s 9ms/step - loss: 4.2980 - mae: 4.7751\n",
            "Epoch 135/500\n",
            "62/62 [==============================] - 1s 9ms/step - loss: 4.3042 - mae: 4.7863\n",
            "Epoch 136/500\n",
            "62/62 [==============================] - 1s 10ms/step - loss: 4.2879 - mae: 4.7654\n",
            "Epoch 137/500\n",
            "62/62 [==============================] - 1s 8ms/step - loss: 4.2641 - mae: 4.7406\n",
            "Epoch 138/500\n",
            "62/62 [==============================] - 1s 8ms/step - loss: 4.2821 - mae: 4.7595\n",
            "Epoch 139/500\n",
            "62/62 [==============================] - 1s 8ms/step - loss: 4.2469 - mae: 4.7259\n",
            "Epoch 140/500\n",
            "62/62 [==============================] - 1s 8ms/step - loss: 4.2767 - mae: 4.7514\n",
            "Epoch 141/500\n",
            "62/62 [==============================] - 1s 8ms/step - loss: 4.2949 - mae: 4.7677\n",
            "Epoch 142/500\n",
            "62/62 [==============================] - 1s 7ms/step - loss: 4.2565 - mae: 4.7347\n",
            "Epoch 143/500\n",
            "62/62 [==============================] - 1s 8ms/step - loss: 4.2939 - mae: 4.7754\n",
            "Epoch 144/500\n",
            "62/62 [==============================] - 0s 7ms/step - loss: 4.2595 - mae: 4.7352\n",
            "Epoch 145/500\n",
            "62/62 [==============================] - 1s 7ms/step - loss: 4.2942 - mae: 4.7684\n",
            "Epoch 146/500\n",
            "62/62 [==============================] - 0s 7ms/step - loss: 4.2535 - mae: 4.7327\n",
            "Epoch 147/500\n",
            "62/62 [==============================] - 1s 7ms/step - loss: 4.2422 - mae: 4.7170\n",
            "Epoch 148/500\n",
            "62/62 [==============================] - 0s 7ms/step - loss: 4.2257 - mae: 4.7041\n",
            "Epoch 149/500\n",
            "62/62 [==============================] - 1s 7ms/step - loss: 4.2463 - mae: 4.7243\n",
            "Epoch 150/500\n",
            "62/62 [==============================] - 1s 7ms/step - loss: 4.2507 - mae: 4.7283\n",
            "Epoch 151/500\n",
            "62/62 [==============================] - 1s 7ms/step - loss: 4.2472 - mae: 4.7228\n",
            "Epoch 152/500\n",
            "62/62 [==============================] - 1s 7ms/step - loss: 4.2708 - mae: 4.7467\n",
            "Epoch 153/500\n",
            "62/62 [==============================] - 1s 8ms/step - loss: 4.2797 - mae: 4.7589\n",
            "Epoch 154/500\n",
            "62/62 [==============================] - 1s 7ms/step - loss: 4.2046 - mae: 4.6791\n",
            "Epoch 155/500\n",
            "62/62 [==============================] - 1s 7ms/step - loss: 4.2262 - mae: 4.7042\n",
            "Epoch 156/500\n",
            "62/62 [==============================] - 1s 8ms/step - loss: 4.2392 - mae: 4.7166\n",
            "Epoch 157/500\n",
            "62/62 [==============================] - 1s 7ms/step - loss: 4.2382 - mae: 4.7153\n",
            "Epoch 158/500\n",
            "62/62 [==============================] - 1s 7ms/step - loss: 4.2246 - mae: 4.7007\n",
            "Epoch 159/500\n",
            "62/62 [==============================] - 0s 7ms/step - loss: 4.2285 - mae: 4.7062\n",
            "Epoch 160/500\n",
            "62/62 [==============================] - 1s 8ms/step - loss: 4.2420 - mae: 4.7173\n",
            "Epoch 161/500\n",
            "62/62 [==============================] - 1s 7ms/step - loss: 4.2543 - mae: 4.7317\n",
            "Epoch 162/500\n",
            "62/62 [==============================] - 1s 7ms/step - loss: 4.2345 - mae: 4.7102\n",
            "Epoch 163/500\n",
            "62/62 [==============================] - 1s 7ms/step - loss: 4.2624 - mae: 4.7383\n",
            "Epoch 164/500\n",
            "62/62 [==============================] - 1s 8ms/step - loss: 4.3053 - mae: 4.7820\n",
            "Epoch 165/500\n",
            "62/62 [==============================] - 1s 7ms/step - loss: 4.1677 - mae: 4.6445\n",
            "Epoch 166/500\n",
            "62/62 [==============================] - 1s 8ms/step - loss: 4.2052 - mae: 4.6778\n",
            "Epoch 167/500\n",
            "62/62 [==============================] - 1s 8ms/step - loss: 4.2545 - mae: 4.7316\n",
            "Epoch 168/500\n",
            "62/62 [==============================] - 1s 8ms/step - loss: 4.1917 - mae: 4.6692\n",
            "Epoch 169/500\n",
            "62/62 [==============================] - 1s 8ms/step - loss: 4.2701 - mae: 4.7466\n",
            "Epoch 170/500\n",
            "62/62 [==============================] - 1s 8ms/step - loss: 4.3580 - mae: 4.8317\n",
            "Epoch 171/500\n",
            "45/62 [====================>.........] - ETA: 0s - loss: 4.0977 - mae: 4.5754"
          ]
        }
      ],
      "source": [
        "# Train the model\n",
        "history = model.fit(train_set,epochs=500)"
      ]
    },
    {
      "cell_type": "markdown",
      "metadata": {
        "id": "mEGAzXrmBCVd"
      },
      "source": [
        "Training can be a bit unstable especially as the weights start to converge so you may want to visualize it to see if it is still trending down. The earlier epochs might dominate the graph so it's also good to zoom in on the later parts of training to properly observe the parameters. The code below visualizes the `mae` and `loss` for all epochs, and also zooms in at the last 80%."
      ]
    },
    {
      "cell_type": "code",
      "execution_count": null,
      "metadata": {
        "id": "ok8LjNbbkig4"
      },
      "outputs": [],
      "source": [
        "# Get mae and loss from history log\n",
        "mae=history.history['mae']\n",
        "loss=history.history['loss']\n",
        "\n",
        "# Get number of epochs\n",
        "epochs=range(len(loss))\n",
        "\n",
        "# Plot mae and loss\n",
        "plot_series(\n",
        "    x=epochs,\n",
        "    y=(mae, loss),\n",
        "    title='MAE and Loss',\n",
        "    xlabel='Epochs',\n",
        "    legend=['MAE', 'Loss']\n",
        "    )\n",
        "\n",
        "# Only plot the last 80% of the epochs\n",
        "zoom_split = int(epochs[-1] * 0.2)\n",
        "epochs_zoom = epochs[zoom_split:]\n",
        "mae_zoom = mae[zoom_split:]\n",
        "loss_zoom = loss[zoom_split:]\n",
        "\n",
        "# Plot zoomed mae and loss\n",
        "plot_series(\n",
        "    x=epochs_zoom,\n",
        "    y=(mae_zoom, loss_zoom),\n",
        "    title='MAE and Loss',\n",
        "    xlabel='Epochs',\n",
        "    legend=['MAE', 'Loss']\n",
        "    )"
      ]
    },
    {
      "cell_type": "markdown",
      "metadata": {
        "id": "l4BToQgdS9Lo"
      },
      "source": [
        "## Model Prediction\n",
        "\n",
        "Once training is done, you can generate the model predictions and plot them against the validation set.\n"
      ]
    },
    {
      "cell_type": "code",
      "execution_count": null,
      "metadata": {
        "id": "HUWdHyyiS3o_"
      },
      "outputs": [],
      "source": [
        "def model_forecast(model, series, window_size, batch_size):\n",
        "    \"\"\"Uses an input model to generate predictions on data windows\n",
        "\n",
        "    Args:\n",
        "      model (TF Keras Model) - model that accepts data windows\n",
        "      series (array of float) - contains the values of the time series\n",
        "      window_size (int) - the number of time steps to include in the window\n",
        "      batch_size (int) - the batch size\n",
        "\n",
        "    Returns:\n",
        "      forecast (numpy array) - array containing predictions\n",
        "    \"\"\"\n",
        "\n",
        "    # Generate a TF Dataset from the series values\n",
        "    dataset = tf.data.Dataset.from_tensor_slices(series)\n",
        "\n",
        "    # Window the data but only take those with the specified size\n",
        "    dataset = dataset.window(window_size, shift=1, drop_remainder=True)\n",
        "\n",
        "    # Flatten the windows by putting its elements in a single batch\n",
        "    dataset = dataset.flat_map(lambda w: w.batch(window_size))\n",
        "\n",
        "    # Create batches of windows\n",
        "    dataset = dataset.batch(batch_size).prefetch(1)\n",
        "\n",
        "    # Get predictions on the entire dataset\n",
        "    forecast = model.predict(dataset)\n",
        "\n",
        "    return forecast"
      ]
    },
    {
      "cell_type": "code",
      "execution_count": null,
      "metadata": {
        "id": "Hsmw8TOUS7K_"
      },
      "outputs": [],
      "source": [
        "# Reduce the original series\n",
        "forecast_series = series[split_time-window_size:-1]\n",
        "\n",
        "# Use helper function to generate predictions\n",
        "forecast = model_forecast(model, forecast_series, window_size, batch_size)\n",
        "\n",
        "# Drop single dimensional axes\n",
        "results = forecast.squeeze()\n",
        "\n",
        "# Plot the results\n",
        "plot_series(time_valid, (x_valid, results))"
      ]
    },
    {
      "cell_type": "markdown",
      "metadata": {
        "id": "mR1WxVICDSIE"
      },
      "source": [
        "You can then compute the metrics as usual."
      ]
    },
    {
      "cell_type": "code",
      "execution_count": null,
      "metadata": {
        "id": "ULKO3JINdqkp"
      },
      "outputs": [],
      "source": [
        "## Compute the MAE and MSE\n",
        "print(tf.keras.metrics.mean_squared_error(x_valid, results).numpy())\n",
        "print(tf.keras.metrics.mean_absolute_error(x_valid, results).numpy())"
      ]
    },
    {
      "cell_type": "markdown",
      "metadata": {
        "id": "QAS7XGJe58hY"
      },
      "source": [
        "## Wrap Up\n",
        "\n",
        "In this lab, you were able to build and train a CNN-RNN model for forecasting. This concludes the series of notebooks on training with synthetic data. In the next labs, you will be looking at a real world time series dataset, particularly sunspot cycles. See you there!"
      ]
    },
    {
      "cell_type": "markdown",
      "metadata": {
        "id": "74P0oB1MrO5K"
      },
      "source": [
        "## Optional - Adding a Callback for Early Stopping\n",
        "\n",
        "In this optional section, you will add a callback to stop training when a metric is met. You already did this in the first course of this specialization and now would be a good time to review."
      ]
    },
    {
      "cell_type": "markdown",
      "metadata": {
        "id": "7E_XS6Kw7lCS"
      },
      "source": [
        "First, you need to prepare a validation set that the model can use and monitor. As shown in the previous lab, you can use the `windowed_dataset()` function to prepare this."
      ]
    },
    {
      "cell_type": "code",
      "execution_count": null,
      "metadata": {
        "id": "aepWmBdueTOB"
      },
      "outputs": [],
      "source": [
        "# Generate data windows from the validation set\n",
        "val_set = windowed_dataset(x_valid, window_size, batch_size, shuffle_buffer_size)"
      ]
    },
    {
      "cell_type": "markdown",
      "metadata": {
        "id": "dEbWDGzU72-h"
      },
      "source": [
        "You can reset the weights of the model or just continue from where you left off."
      ]
    },
    {
      "cell_type": "code",
      "execution_count": null,
      "metadata": {
        "id": "TkeXyLYRoJxA"
      },
      "outputs": [],
      "source": [
        "# Uncomment if you want to reset the weights\n",
        "# model.set_weights(init_weights)"
      ]
    },
    {
      "cell_type": "markdown",
      "metadata": {
        "id": "HOTxGXlw8Qh-"
      },
      "source": [
        "Next, you will define a callback function that is run every end of an epoch. Inside, you will define the condition to stop training. For this lab, you will set it to stop when the `val_mae` is less than `5.2`."
      ]
    },
    {
      "cell_type": "code",
      "execution_count": null,
      "metadata": {
        "id": "fpajFWODpDIy"
      },
      "outputs": [],
      "source": [
        "class myCallback(tf.keras.callbacks.Callback):\n",
        "  def on_epoch_end(self, epoch, logs={}):\n",
        "    '''\n",
        "    Halts the training when a certain metric is met\n",
        "\n",
        "    Args:\n",
        "      epoch (integer) - index of epoch (required but unused in the function definition below)\n",
        "      logs (dict) - metric results from the training epoch\n",
        "    '''\n",
        "\n",
        "    # Check the validation set MAE\n",
        "    if(logs.get('val_mae') < 5.2):\n",
        "\n",
        "      # Stop if threshold is met\n",
        "      print(\"\\nRequired val MAE is met so cancelling training!\")\n",
        "      self.model.stop_training = True\n",
        "\n",
        "# Instantiate the class\n",
        "callbacks = myCallback()"
      ]
    },
    {
      "cell_type": "markdown",
      "metadata": {
        "id": "abJp8xCR9CUt"
      },
      "source": [
        "Remember to set an appropriate learning rate here. If you're starting from random weights, you may want to use the same rate you used earlier. If you did not reset the weights however, you can use a lower learning rate so the model can learn better. If all goes well, the training will stop before the set 500 epochs are completed."
      ]
    },
    {
      "cell_type": "code",
      "execution_count": null,
      "metadata": {
        "id": "xY9o0I0ieYV-"
      },
      "outputs": [],
      "source": [
        "# Set the learning rate\n",
        "learning_rate = 4e-8\n",
        "\n",
        "# Set the optimizer\n",
        "optimizer = tf.keras.optimizers.SGD(learning_rate=learning_rate, momentum=0.9)\n",
        "\n",
        "# Set the training parameters\n",
        "model.compile(loss=tf.keras.losses.Huber(),\n",
        "              optimizer=optimizer,\n",
        "              metrics=[\"mae\"])\n",
        "\n",
        "# Train the model\n",
        "history = model.fit(train_set, epochs=500, validation_data=val_set, callbacks=[callbacks])"
      ]
    },
    {
      "cell_type": "markdown",
      "metadata": {
        "id": "hXnLf9409n1E"
      },
      "source": [
        "In practice, you normally have a separate test set to evaluate against unseen data. For this exercise however, the dataset is already very small so let's just use the same validation set just to verify that the results are comparable to the one you got earlier."
      ]
    },
    {
      "cell_type": "code",
      "execution_count": null,
      "metadata": {
        "id": "gUv4QkyaoDxk"
      },
      "outputs": [],
      "source": [
        "# Reduce the original series\n",
        "forecast_series = series[split_time-window_size:-1]\n",
        "\n",
        "# Use helper function to generate predictions\n",
        "forecast = model_forecast(model, forecast_series, window_size, batch_size)\n",
        "\n",
        "# Drop single dimensional axis\n",
        "results = forecast.squeeze()\n",
        "\n",
        "# Plot the results\n",
        "plot_series(time_valid, (x_valid, results))"
      ]
    },
    {
      "cell_type": "markdown",
      "metadata": {
        "id": "IjlbjWJG-b-1"
      },
      "source": [
        "The computed metrics here will be slightly different from the one shown in the training output because it has more points to evaluate. Remember that `x_valid` has 461 points that corresponds to `t=1000` to `t=1460`. `val_set` (which is a windowed dataset from `x_valid`), on the other hand, only has 441 points because it cannot generate predictions for `t=1000` to `t=1019` (i.e. windowing will start there)."
      ]
    },
    {
      "cell_type": "code",
      "execution_count": null,
      "metadata": {
        "id": "Z3tKgbO2oEgW"
      },
      "outputs": [],
      "source": [
        "## Compute the MAE and MSE\n",
        "print(tf.keras.metrics.mean_squared_error(x_valid, results).numpy())\n",
        "print(tf.keras.metrics.mean_absolute_error(x_valid, results).numpy())"
      ]
    }
  ],
  "metadata": {
    "accelerator": "GPU",
    "colab": {
      "name": "C4_W4_Lab_1_LSTM.ipynb",
      "private_outputs": true,
      "provenance": []
    },
    "kernelspec": {
      "display_name": "Python 3",
      "language": "python",
      "name": "python3"
    },
    "language_info": {
      "codemirror_mode": {
        "name": "ipython",
        "version": 3
      },
      "file_extension": ".py",
      "mimetype": "text/x-python",
      "name": "python",
      "nbconvert_exporter": "python",
      "pygments_lexer": "ipython3",
      "version": "3.8.0"
    }
  },
  "nbformat": 4,
  "nbformat_minor": 0
}
